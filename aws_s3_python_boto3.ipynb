{
  "nbformat": 4,
  "nbformat_minor": 0,
  "metadata": {
    "colab": {
      "provenance": []
    },
    "kernelspec": {
      "name": "python3",
      "display_name": "Python 3"
    },
    "language_info": {
      "name": "python"
    }
  },
  "cells": [
    {
      "cell_type": "markdown",
      "source": [
        "# AWS S3 com Python boto3"
      ],
      "metadata": {
        "id": "XI_f9UxnKmX7"
      }
    },
    {
      "cell_type": "markdown",
      "source": [
        "## Instalação da Biblioteca"
      ],
      "metadata": {
        "id": "3IVCljxrKqUh"
      }
    },
    {
      "cell_type": "code",
      "execution_count": 1,
      "metadata": {
        "colab": {
          "base_uri": "https://localhost:8080/"
        },
        "id": "6AVri2xHKgQc",
        "outputId": "60c499bc-b4ab-4823-ad5b-50031d961839"
      },
      "outputs": [
        {
          "output_type": "stream",
          "name": "stdout",
          "text": [
            "Looking in indexes: https://pypi.org/simple, https://us-python.pkg.dev/colab-wheels/public/simple/\n",
            "Collecting boto3\n",
            "  Downloading boto3-1.26.131-py3-none-any.whl (135 kB)\n",
            "\u001b[2K     \u001b[90m━━━━━━━━━━━━━━━━━━━━━━━━━━━━━━━━━━━━━━━\u001b[0m \u001b[32m135.6/135.6 kB\u001b[0m \u001b[31m2.9 MB/s\u001b[0m eta \u001b[36m0:00:00\u001b[0m\n",
            "\u001b[?25hCollecting botocore<1.30.0,>=1.29.131 (from boto3)\n",
            "  Downloading botocore-1.29.131-py3-none-any.whl (10.7 MB)\n",
            "\u001b[2K     \u001b[90m━━━━━━━━━━━━━━━━━━━━━━━━━━━━━━━━━━━━━━━━\u001b[0m \u001b[32m10.7/10.7 MB\u001b[0m \u001b[31m43.6 MB/s\u001b[0m eta \u001b[36m0:00:00\u001b[0m\n",
            "\u001b[?25hCollecting jmespath<2.0.0,>=0.7.1 (from boto3)\n",
            "  Downloading jmespath-1.0.1-py3-none-any.whl (20 kB)\n",
            "Collecting s3transfer<0.7.0,>=0.6.0 (from boto3)\n",
            "  Downloading s3transfer-0.6.1-py3-none-any.whl (79 kB)\n",
            "\u001b[2K     \u001b[90m━━━━━━━━━━━━━━━━━━━━━━━━━━━━━━━━━━━━━━━━\u001b[0m \u001b[32m79.8/79.8 kB\u001b[0m \u001b[31m5.4 MB/s\u001b[0m eta \u001b[36m0:00:00\u001b[0m\n",
            "\u001b[?25hRequirement already satisfied: python-dateutil<3.0.0,>=2.1 in /usr/local/lib/python3.10/dist-packages (from botocore<1.30.0,>=1.29.131->boto3) (2.8.2)\n",
            "Requirement already satisfied: urllib3<1.27,>=1.25.4 in /usr/local/lib/python3.10/dist-packages (from botocore<1.30.0,>=1.29.131->boto3) (1.26.15)\n",
            "Requirement already satisfied: six>=1.5 in /usr/local/lib/python3.10/dist-packages (from python-dateutil<3.0.0,>=2.1->botocore<1.30.0,>=1.29.131->boto3) (1.16.0)\n",
            "Installing collected packages: jmespath, botocore, s3transfer, boto3\n",
            "Successfully installed boto3-1.26.131 botocore-1.29.131 jmespath-1.0.1 s3transfer-0.6.1\n"
          ]
        }
      ],
      "source": [
        "!pip install boto3"
      ]
    },
    {
      "cell_type": "markdown",
      "source": [
        "## Importação da biblioteca"
      ],
      "metadata": {
        "id": "zPI0qnFWKuEl"
      }
    },
    {
      "cell_type": "code",
      "source": [
        "import boto3"
      ],
      "metadata": {
        "id": "f9lgHn3OKuIt"
      },
      "execution_count": 3,
      "outputs": []
    },
    {
      "cell_type": "markdown",
      "source": [
        "## Instância do client S3"
      ],
      "metadata": {
        "id": "IbT700EhK1N8"
      }
    },
    {
      "cell_type": "code",
      "source": [
        "S3 = boto3.client(\n",
        "    's3', # nome do serviço\n",
        "    aws_access_key_id = '',\n",
        "    aws_secret_access_key = '',\n",
        "    aws_session_token = '',\n",
        "    region_name = 'us-east-1'\n",
        ")"
      ],
      "metadata": {
        "id": "8XLNbGyXKxv0"
      },
      "execution_count": 4,
      "outputs": []
    },
    {
      "cell_type": "markdown",
      "source": [
        "## Criar um Bucket no S3"
      ],
      "metadata": {
        "id": "5fnOg0YdMCUH"
      }
    },
    {
      "cell_type": "code",
      "source": [
        "def criar_buckets(*args):\n",
        "    for bckt in args:\n",
        "        bucket = S3.create_bucket(\n",
        "            ACL = 'private', # Gerencia o acesso a bucekts e objetos do S3\n",
        "            Bucket = bckt\n",
        "        )\n",
        "        print(bckt)"
      ],
      "metadata": {
        "id": "QXU9BudeLdAK"
      },
      "execution_count": null,
      "outputs": []
    },
    {
      "cell_type": "markdown",
      "source": [
        "## Listando Buckets do S3"
      ],
      "metadata": {
        "id": "0ZZgLVFpMC2D"
      }
    },
    {
      "cell_type": "code",
      "source": [
        "def listar_buckets():\n",
        "    buckets = S3.list_buckets() \n",
        "    #print(type(lista_buckets))\n",
        "\n",
        "    for bucket in buckets['Buckets']:\n",
        "        print(bucket['Name'])"
      ],
      "metadata": {
        "id": "ls6dpg_NMC6z"
      },
      "execution_count": null,
      "outputs": []
    },
    {
      "cell_type": "markdown",
      "source": [
        "## Excluindo Bucket do S3"
      ],
      "metadata": {
        "id": "QCbCUoJXrIeM"
      }
    },
    {
      "cell_type": "code",
      "source": [
        "def excluir_buckets(*args):\n",
        "    for bckt in args:\n",
        "        bucket = S3.delete_bucket(Bucket = bckt)\n",
        "        print(bckt)"
      ],
      "metadata": {
        "id": "mR-YU9htrIjY"
      },
      "execution_count": null,
      "outputs": []
    },
    {
      "cell_type": "markdown",
      "source": [
        "## Enviando arquivo para o Bucket do S3"
      ],
      "metadata": {
        "id": "0EzSqn_FtT2z"
      }
    },
    {
      "cell_type": "code",
      "source": [
        "def enviar_arquivos(nome_pasta_arquivos_origem, bucket):\n",
        "    import os\n",
        "    \n",
        "    local_arquivo = os.getcwd() + '/' + nome_pasta_arquivos_origem + '/'\n",
        "    lista_arquivos = os.listdir(local_arquivo)\n",
        "\n",
        "    for arquivo in lista_arquivos:\n",
        "        if '.csv' in arquivo:\n",
        "            up_arquivo = S3.upload_file(\n",
        "                Filename = f'{local_arquivo}{arquivo}',\n",
        "                Bucket = bucket,\n",
        "                Key = arquivo\n",
        "            )\n",
        "            print(arquivo)"
      ],
      "metadata": {
        "id": "13Nofoq6TteG"
      },
      "execution_count": null,
      "outputs": []
    },
    {
      "cell_type": "markdown",
      "source": [
        "## Listando arquivos do Bucket do S3"
      ],
      "metadata": {
        "id": "o1Ae8lRcenoD"
      }
    },
    {
      "cell_type": "code",
      "source": [
        "def listar_arquivos(bucket):\n",
        "    arquivos = S3.list_objects_v2(\n",
        "        Bucket = bucket\n",
        "        # MaxKeys = 10\n",
        "    ).get('Contents')\n",
        "\n",
        "    arq = [arquivo['Key'] for arquivo in arquivos]\n",
        "    return arq"
      ],
      "metadata": {
        "id": "QeRSSqueentF"
      },
      "execution_count": null,
      "outputs": []
    },
    {
      "cell_type": "markdown",
      "source": [
        "## Baixar arquivos do Bucket do S3"
      ],
      "metadata": {
        "id": "NMJSCkqmF3vm"
      }
    },
    {
      "cell_type": "code",
      "source": [
        "def baixar_arquivos(bucket, *arquivos):\n",
        "\n",
        "    for arq in arquivos:\n",
        "        arquivo = S3.download_file(\n",
        "            Filename = arq,\n",
        "            Bucket = bucket,\n",
        "            Key = arq\n",
        "        )\n",
        "        print(arq)"
      ],
      "metadata": {
        "id": "JzSGeZ5D_bdX"
      },
      "execution_count": null,
      "outputs": []
    },
    {
      "cell_type": "markdown",
      "source": [
        "## Excluir arquivo do Bucket do S3"
      ],
      "metadata": {
        "id": "FhiguYosF9mg"
      }
    },
    {
      "cell_type": "code",
      "source": [
        "def excluir_arquivos(bucket, *arquivos):\n",
        "    for arq in arquivos:\n",
        "        if arq in listar_arquivos(bucket):\n",
        "            arquivo = S3.delete_object(\n",
        "                Bucket = bucket,\n",
        "                Key = arq\n",
        "            )\n",
        "            print(arq)"
      ],
      "metadata": {
        "id": "qGxg6EKPF9tr"
      },
      "execution_count": null,
      "outputs": []
    },
    {
      "cell_type": "markdown",
      "source": [
        "## Listar informações do objeto"
      ],
      "metadata": {
        "id": "8rNrmJAT14Rq"
      }
    },
    {
      "cell_type": "code",
      "source": [
        "def listar_informacoes_objeto(bucket, chave):\n",
        "    objeto = S3.head_object(\n",
        "        Bucket = bucket,\n",
        "        Key = chave \n",
        "    )\n",
        "    return objeto "
      ],
      "metadata": {
        "id": "DGMDvxQjxBQD"
      },
      "execution_count": 25,
      "outputs": []
    },
    {
      "cell_type": "markdown",
      "source": [
        "### Operações"
      ],
      "metadata": {
        "id": "3RHL39arLsQC"
      }
    },
    {
      "cell_type": "code",
      "source": [
        "print('====== Buckets criados ======')\n",
        "criar_buckets('meuprimeirobucketx', 'meusegundobuckety', 'meuterceirobucketz', 'meuquartobucketxyz')"
      ],
      "metadata": {
        "colab": {
          "base_uri": "https://localhost:8080/"
        },
        "id": "lJ7aKfVlLH8s",
        "outputId": "363cc7a5-5a90-45b6-c79f-8d2e921a5a58"
      },
      "execution_count": null,
      "outputs": [
        {
          "output_type": "stream",
          "name": "stdout",
          "text": [
            "====== Buckets criados ======\n",
            "meuprimeirobucketx\n",
            "meusegundobuckety\n",
            "meuterceirobucketz\n",
            "meuquartobucketxyz\n"
          ]
        }
      ]
    },
    {
      "cell_type": "code",
      "source": [
        "print('====== Buckets ======')\n",
        "listar_buckets()"
      ],
      "metadata": {
        "colab": {
          "base_uri": "https://localhost:8080/"
        },
        "id": "SFPiuudVNQfA",
        "outputId": "53dbd411-2e17-44ba-c070-bf27bfeb7a08"
      },
      "execution_count": null,
      "outputs": [
        {
          "output_type": "stream",
          "name": "stdout",
          "text": [
            "====== Buckets ======\n",
            "meuprimeirobucketx\n",
            "meuquartobucketxyz\n",
            "meusegundobuckety\n",
            "meuterceirobucketz\n"
          ]
        }
      ]
    },
    {
      "cell_type": "code",
      "source": [
        "print('====== Buckets excluidos ======')\n",
        "# buckets = ['meuterceirobucketz', 'meuquartobucketxyz'] *buckets\n",
        "excluir_buckets('meuterceirobucketz', 'meuquartobucketxyz')"
      ],
      "metadata": {
        "colab": {
          "base_uri": "https://localhost:8080/"
        },
        "id": "oR5iw4n2Nf4R",
        "outputId": "fae2208a-e2b9-4630-abb6-ad03e147d38c"
      },
      "execution_count": null,
      "outputs": [
        {
          "output_type": "stream",
          "name": "stdout",
          "text": [
            "====== Buckets excluidos ======\n",
            "meuterceirobucketz\n",
            "meuquartobucketxyz\n"
          ]
        }
      ]
    },
    {
      "cell_type": "code",
      "source": [
        "print('====== Arquivos enviados ======')\n",
        "enviar_arquivos('arquivos', 'meuprimeirobucketx')"
      ],
      "metadata": {
        "colab": {
          "base_uri": "https://localhost:8080/"
        },
        "id": "85mn1MiYNtqL",
        "outputId": "fd452179-eb2f-4903-e614-5705b07c5982"
      },
      "execution_count": null,
      "outputs": [
        {
          "output_type": "stream",
          "name": "stdout",
          "text": [
            "====== Arquivos enviados ======\n",
            "loja2.csv\n",
            "loja5.csv\n",
            "loja3.csv\n",
            "loja6.csv\n",
            "loja4.csv\n",
            "loja.csv\n"
          ]
        }
      ]
    },
    {
      "cell_type": "code",
      "source": [
        "print('====== Listar arquivos ======')\n",
        "arquivos_buckets = list(map(lambda x: print(x), listar_arquivos('meuprimeirobucketx')))"
      ],
      "metadata": {
        "colab": {
          "base_uri": "https://localhost:8080/"
        },
        "id": "tvUBPb4_Ocik",
        "outputId": "e1e42f83-71c4-47a0-9a6e-89978bef10d3"
      },
      "execution_count": null,
      "outputs": [
        {
          "output_type": "stream",
          "name": "stdout",
          "text": [
            "====== Listar arquivos ======\n",
            "loja.csv\n",
            "loja2.csv\n",
            "loja3.csv\n",
            "loja4.csv\n",
            "loja5.csv\n",
            "loja6.csv\n"
          ]
        }
      ]
    },
    {
      "cell_type": "code",
      "source": [
        "print('====== Baixar arquivos ======')\n",
        "baixar_arquivos('meuprimeirobucketx', 'loja.csv', 'loja2.csv', 'loja3.csv')"
      ],
      "metadata": {
        "colab": {
          "base_uri": "https://localhost:8080/"
        },
        "id": "ScfHCWWUOvt8",
        "outputId": "9cbde7ee-3921-4085-db76-33aa1a1f399c"
      },
      "execution_count": null,
      "outputs": [
        {
          "output_type": "stream",
          "name": "stdout",
          "text": [
            "====== Baixar arquivos ======\n",
            "loja.csv\n",
            "loja2.csv\n",
            "loja3.csv\n"
          ]
        }
      ]
    },
    {
      "cell_type": "code",
      "source": [
        "print('====== Excluir arquivos ======')\n",
        "# arquivos = ['loja5.csv', 'loja6.csv'] *arquivos\n",
        "excluir_arquivos('meuprimeirobucketx', 'loja5.csv', 'loja6.csv')"
      ],
      "metadata": {
        "colab": {
          "base_uri": "https://localhost:8080/"
        },
        "id": "vZg74yqLRwyQ",
        "outputId": "ac5184ae-8006-4770-f078-978a205ad98e"
      },
      "execution_count": null,
      "outputs": [
        {
          "output_type": "stream",
          "name": "stdout",
          "text": [
            "====== Excluir arquivos ======\n",
            "loja5.csv\n",
            "loja6.csv\n"
          ]
        }
      ]
    },
    {
      "cell_type": "code",
      "source": [
        "print('====== Informações do Objeto ======')\n",
        "objeto = listar_informacoes_objeto('meuprimeirobucketx', 'loja.csv')\n",
        "for c, v in objeto.items():\n",
        "    print(f'{c}: {v}')"
      ],
      "metadata": {
        "colab": {
          "base_uri": "https://localhost:8080/"
        },
        "id": "wpc8ZB2Lypne",
        "outputId": "8ff47d7a-49f6-4b35-f8f9-089b4a83d902"
      },
      "execution_count": 26,
      "outputs": [
        {
          "output_type": "stream",
          "name": "stdout",
          "text": [
            "====== Informações do Objeto ======\n",
            "ResponseMetadata: {'RequestId': '46FZNKVPD5BX3P9K', 'HostId': '2//B8qoMQJ/oYfWI41V6ERt9yVUuTiGcAM0RVYmjf+ksfbZjOhucufVp4FDW0Mljq3ohPtRCZX0=', 'HTTPStatusCode': 200, 'HTTPHeaders': {'x-amz-id-2': '2//B8qoMQJ/oYfWI41V6ERt9yVUuTiGcAM0RVYmjf+ksfbZjOhucufVp4FDW0Mljq3ohPtRCZX0=', 'x-amz-request-id': '46FZNKVPD5BX3P9K', 'date': 'Wed, 10 May 2023 18:07:21 GMT', 'last-modified': 'Wed, 10 May 2023 15:14:31 GMT', 'etag': '\"7f95f0da9b06350ee05b3df5630aa932\"', 'x-amz-server-side-encryption': 'AES256', 'accept-ranges': 'bytes', 'content-type': 'binary/octet-stream', 'server': 'AmazonS3', 'content-length': '11624'}, 'RetryAttempts': 0}\n",
            "AcceptRanges: bytes\n",
            "LastModified: 2023-05-10 15:14:31+00:00\n",
            "ContentLength: 11624\n",
            "ETag: \"7f95f0da9b06350ee05b3df5630aa932\"\n",
            "ContentType: binary/octet-stream\n",
            "ServerSideEncryption: AES256\n",
            "Metadata: {}\n"
          ]
        }
      ]
    }
  ]
}